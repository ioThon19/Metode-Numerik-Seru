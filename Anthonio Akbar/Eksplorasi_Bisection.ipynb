{
 "cells": [
  {
   "cell_type": "code",
   "execution_count": 4,
   "metadata": {},
   "outputs": [
    {
     "name": "stdout",
     "output_type": "stream",
     "text": [
      "1 | x2 = 2.500000 | f(x2) = -5.875000\n",
      "2 | x2 = 2.750000 | f(x2) = -1.953125\n",
      "3 | x2 = 2.875000 | f(x2) = 0.388672\n",
      "4 | x2 = 2.812500 | f(x2) = -0.815186\n",
      "5 | x2 = 2.843750 | f(x2) = -0.221588\n",
      "6 | x2 = 2.859375 | f(x2) = 0.081448\n",
      "7 | x2 = 2.851562 | f(x2) = -0.070592\n",
      "8 | x2 = 2.855469 | f(x2) = 0.005297\n",
      "9 | x2 = 2.853516 | f(x2) = -0.032680\n",
      "10 | x2 = 2.854492 | f(x2) = -0.013700\n",
      "11 | x2 = 2.854980 | f(x2) = -0.004204\n",
      "12 | x2 = 2.855225 | f(x2) = 0.000546\n",
      "13 | x2 = 2.855103 | f(x2) = -0.001829\n",
      "14 | x2 = 2.855164 | f(x2) = -0.000641\n",
      "15 | x2 = 2.855194 | f(x2) = -0.000048\n",
      "16 | x2 = 2.855209 | f(x2) = 0.000249\n",
      "17 | x2 = 2.855202 | f(x2) = 0.000101\n",
      "18 | x2 = 2.855198 | f(x2) = 0.000027\n",
      "19 | x2 = 2.855196 | f(x2) = -0.000011\n",
      "20 | x2 = 2.855197 | f(x2) = 0.000008\n",
      "\n",
      "Akar yang dihasilkan : 2.85519695\n"
     ]
    }
   ],
   "source": [
    "\n",
    "# Mendefinisikan fungsi\n",
    "def f(x):\n",
    "    return x**3-5*x-9\n",
    "\n",
    "# Implementasi metode bisection\n",
    "def bisection(x0,x1,e):\n",
    "    step = 1\n",
    "    condition = True\n",
    "    while condition:\n",
    "        x2 = (x0 + x1)/2\n",
    "        print('%d | x2 = %0.6f | f(x2) = %0.6f' % (step, x2, f(x2)))\n",
    "\n",
    "        if f(x0) * f(x2) < 0:\n",
    "            x1 = x2\n",
    "        else:\n",
    "            x0 = x2\n",
    "        \n",
    "        step = step + 1\n",
    "        condition = abs(f(x2)) > e\n",
    "\n",
    "    print('\\nAkar yang dihasilkan : %0.8f' % x2)\n",
    "\n",
    "# Input nilai awal\n",
    "x0 = float(input('Masukan nilai x0: '))\n",
    "x1 = float(input('Masukan nilai x1: '))\n",
    "e = float(input('Masukan nilai error: '))\n",
    "\n",
    "# Memerika kebenaran Nilai Tebakan awal dan bagi dua\n",
    "if f(x0) * f(x1) > 0.0:\n",
    "    print('Akar tidak ditemukan.') \n",
    "else:\n",
    "    bisection(x0,x1,e)"
   ]
  }
 ],
 "metadata": {
  "kernelspec": {
   "display_name": "Python 3",
   "language": "python",
   "name": "python3"
  },
  "language_info": {
   "codemirror_mode": {
    "name": "ipython",
    "version": 3
   },
   "file_extension": ".py",
   "mimetype": "text/x-python",
   "name": "python",
   "nbconvert_exporter": "python",
   "pygments_lexer": "ipython3",
   "version": "3.10.6 (tags/v3.10.6:9c7b4bd, Aug  1 2022, 21:53:49) [MSC v.1932 64 bit (AMD64)]"
  },
  "orig_nbformat": 4,
  "vscode": {
   "interpreter": {
    "hash": "4f190df881598ed4ce8c6ef3b9f429d6d516c545021c1bbb0898dd91eb974145"
   }
  }
 },
 "nbformat": 4,
 "nbformat_minor": 2
}
