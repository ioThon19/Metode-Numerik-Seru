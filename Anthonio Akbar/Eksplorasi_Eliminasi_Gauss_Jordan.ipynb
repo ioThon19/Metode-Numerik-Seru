{
  "cells": [
    {
      "cell_type": "markdown",
      "metadata": {
        "id": "vYxBzv-7q5I_"
      },
      "source": [
        "**PROGRAM SPL DARI IBU**"
      ]
    },
    {
      "cell_type": "code",
      "execution_count": 2,
      "metadata": {
        "colab": {
          "base_uri": "https://localhost:8080/"
        },
        "id": "G0oyi-h5oerV",
        "outputId": "6a8edef1-5e5d-4a1d-adb1-a4549ca3b641"
      },
      "outputs": [
        {
          "name": "stdout",
          "output_type": "stream",
          "text": [
            "Masukkan bilangan ke dalam matrix : \n",
            "---------------------------------------------\n",
            "----- Bagian Proses -----\n",
            "i = 0 , j = 0\n",
            "i = 0 , j = 1\n",
            "  ratio = a[1][0] / a[0][0]\n",
            "  ratio = 4.00 / 1.00 = 4.00\n",
            "  k = 0\n",
            "  a[1][0] = a[1][0] - ratio * a[0][0]\n",
            "  a[1][0] = 4.00 - 4.00 * 1.00\n",
            "  a[1][0] = 0.00\n",
            "  k = 1\n",
            "  a[1][1] = a[1][1] - ratio * a[0][1]\n",
            "  a[1][1] = 5.00 - 4.00 * 2.00\n",
            "  a[1][1] = -3.00\n",
            "  k = 2\n",
            "  a[1][2] = a[1][2] - ratio * a[0][2]\n",
            "  a[1][2] = 6.00 - 4.00 * 3.00\n",
            "  a[1][2] = -6.00\n",
            "i = 1 , j = 0\n",
            "  ratio = a[0][1] / a[1][1]\n",
            "  ratio = 2.00 / -3.00 = -0.67\n",
            "  k = 0\n",
            "  a[0][0] = a[0][0] - ratio * a[1][0]\n",
            "  a[0][0] = 1.00 - -0.67 * 0.00\n",
            "  a[0][0] = 1.00\n",
            "  k = 1\n",
            "  a[0][1] = a[0][1] - ratio * a[1][1]\n",
            "  a[0][1] = 2.00 - -0.67 * -3.00\n",
            "  a[0][1] = 0.00\n",
            "  k = 2\n",
            "  a[0][2] = a[0][2] - ratio * a[1][2]\n",
            "  a[0][2] = 3.00 - -0.67 * -6.00\n",
            "  a[0][2] = -1.00\n",
            "i = 1 , j = 1\n",
            "---------------------------------------------\n",
            "----- Bagian Mencari X -----\n",
            "x1 = a[0][2] / a[0][0]\n",
            "x1 = -1.00\n",
            "x2 = a[1][2] / a[1][1]\n",
            "x2 = 2.00\n",
            "---------------------------------------------\n",
            "Solusinya : \n",
            "x1 = -1.00\tx2 = 2.00\t"
          ]
        }
      ],
      "source": [
        "import numpy as np\n",
        "\n",
        "n = int(input('Input variabel : '))\n",
        "a = np.zeros((n,n+1))\n",
        "x = np.zeros(n)\n",
        "\n",
        "print('Masukkan bilangan ke dalam matrix : ')\n",
        "for i in range(n):\n",
        "    for j in range(n+1):\n",
        "        a[i][j] = float(input('a['+ str(i) + '][' + str(j) + '] = '))\n",
        "\n",
        "print('-'*45)\n",
        "print('----- Bagian Proses -----')\n",
        "\n",
        "for i in range(n):\n",
        "    if i != n:\n",
        "        if a[i][i] == 0.0:\n",
        "            search = i\n",
        "            while a[i][i] == 0.0:\n",
        "                for j in range(n+1):\n",
        "                    temp1 = a[i][j]\n",
        "                    temp2 = a[search+1][j]\n",
        "                    a[i][j] = temp2\n",
        "                    a[search+1][j] = temp1\n",
        "                    print('a[%d][%d] = %0.2f' %(i,j,temp1))\n",
        "                    print('b[%d][%d] = %0.2f' %(search+1,j,temp2))\n",
        "                    print('Penukaran [%d][%d] dengan [%d][%d] berhasil!' %(i,j,search+1,j))\n",
        "                    print('a[%d][%d] Sekarang = %0.2f' %(i,j,temp2))\n",
        "                    print('b[%d][%d] Sekarang = %0.2f' %(search+1,j,temp1))\n",
        "                search = search + 1\n",
        "        \n",
        "    for j in range(n):\n",
        "        print('i = %d , j = %d' %(i,j))\n",
        "        if i != j:\n",
        "            ratio = a[j][i] / a[i][i]\n",
        "            print('  ratio = a[%d][%d] / a[%d][%d]' %(j,i,i,i))\n",
        "            print('  ratio = %0.2f / %0.2f = %0.2f' %(a[j][i], a[i][i], ratio))\n",
        "            \n",
        "            for k in range(n+1):\n",
        "                print('  k = %d' %(k))\n",
        "                print('  a[%d][%d] = a[%d][%d] - ratio * a[%d][%d]' %(j,k,j,k,i,k))\n",
        "                print('  a[%d][%d] = %0.2f - %0.2f * %0.2f' %(j,k,a[j][k],ratio,a[i][k]))\n",
        "                a[j][k] = a[j][k] - ratio * a[i][k]\n",
        "                print('  a[%d][%d] = %0.2f' %(j,k,a[j][k]))\n",
        "\n",
        "print('-'*45)\n",
        "print('----- Bagian Mencari X -----')\n",
        "                \n",
        "for i in range(n):\n",
        "    print('x%d = a[%d][%d] / a[%d][%d]' %(i+1,i,n,i,i))\n",
        "    x[i] = a[i][n] / a[i][i]\n",
        "    print('x%d = %0.2f'%(i+1,x[i]))\n",
        "\n",
        "print('-'*45)\n",
        "\n",
        "print('Solusinya : ')\n",
        "for i in range(n):\n",
        "    print('x%d = %0.2f' %(i+1,x[i]), end='\\t')"
      ]
    },
    {
      "cell_type": "markdown",
      "metadata": {
        "id": "i0N1f9zwroLq"
      },
      "source": [
        "**HASIL EKSPLORASI**"
      ]
    },
    {
      "cell_type": "code",
      "execution_count": 3,
      "metadata": {
        "colab": {
          "background_save": true,
          "base_uri": "https://localhost:8080/"
        },
        "id": "1vhiu5eopBsK",
        "outputId": "877b6910-d175-4df3-ff8d-5dfc73552b4d"
      },
      "outputs": [
        {
          "name": "stdout",
          "output_type": "stream",
          "text": [
            "Input matriks: \n",
            "\n",
            "Solusinya adalah : \n",
            "X1 = 0.91\tX2 = 0.22\t"
          ]
        }
      ],
      "source": [
        "import numpy as np\n",
        "\n",
        "n = int(input('Input jumlah variabel: '))\n",
        "a = np.zeros((n,n+1))\n",
        "x = np.zeros(n)\n",
        "\n",
        "print('Input matriks: ')\n",
        "for i in range(n):\n",
        "    for j in range(n+1):\n",
        "        a[i][j] = float(input( 'a['+str(i)+']['+ str(j)+'] = '))\n",
        "        \n",
        "for i in range(n):\n",
        "    # Penukar baris jika bilangan di salah satu diagonalnya = 0\n",
        "    if i != n:\n",
        "        if a[i][i] == 0.0:\n",
        "            search = i\n",
        "            while a[i][i] == 0.0:\n",
        "                for j in range(n+1):\n",
        "                    temp1 = a[i][j]\n",
        "                    temp2 = a[search+1][j]\n",
        "                    a[i][j] = temp2\n",
        "                    a[search+1][j] = temp1\n",
        "                search = search + 1\n",
        "    \n",
        "    # Proses Eliminasi GaussJordan        \n",
        "    for j in range(n):\n",
        "        if i != j:\n",
        "            ratio = a[j][i]/a[i][i]\n",
        "\n",
        "            for k in range(n+1):\n",
        "                a[j][k] = a[j][k] - ratio * a[i][k]\n",
        "\n",
        "# Menghitung Solusi\n",
        "for i in range(n):\n",
        "    x[i] = a[i][n]/a[i][i]\n",
        "\n",
        "# Menampilkan Solusi\n",
        "print('\\nSolusinya adalah : ')\n",
        "for i in range(n):\n",
        "    print('X%d = %0.2f' %(i+1,x[i]), end = '\\t')"
      ]
    }
  ],
  "metadata": {
    "colab": {
      "provenance": []
    },
    "kernelspec": {
      "display_name": "Python 3",
      "language": "python",
      "name": "python3"
    },
    "language_info": {
      "codemirror_mode": {
        "name": "ipython",
        "version": 3
      },
      "file_extension": ".py",
      "mimetype": "text/x-python",
      "name": "python",
      "nbconvert_exporter": "python",
      "pygments_lexer": "ipython3",
      "version": "3.10.6"
    },
    "vscode": {
      "interpreter": {
        "hash": "4f190df881598ed4ce8c6ef3b9f429d6d516c545021c1bbb0898dd91eb974145"
      }
    }
  },
  "nbformat": 4,
  "nbformat_minor": 0
}
