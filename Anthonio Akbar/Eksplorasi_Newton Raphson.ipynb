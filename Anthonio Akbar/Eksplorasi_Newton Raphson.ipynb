{
 "cells": [
  {
   "cell_type": "code",
   "execution_count": 1,
   "metadata": {},
   "outputs": [
    {
     "name": "stdout",
     "output_type": "stream",
     "text": [
      "   |Iterasi Ke-1|\n",
      "x0     = 4.500\n",
      "x1     = 4.036\n",
      "f(x0)  = 3.250\n",
      "df(x0) = 7.000\n",
      "|(x1-x0)/x1| =  0.115\n",
      "---------------------\n",
      "   |Iterasi Ke-2|\n",
      "x0     = 4.036\n",
      "x1     = 4.000\n",
      "f(x0)  = 0.217\n",
      "df(x0) = 6.072\n",
      "|(x1-x0)/x1| =  0.009\n",
      "---------------------\n",
      "   |Iterasi Ke-3|\n",
      "x0     = 4.000\n",
      "x1     = 4.000\n",
      "f(x0)  = 0.000\n",
      "df(x0) = 6.000\n",
      "|(x1-x0)/x1| =  0.0\n",
      "---------------------\n",
      "Total iterasi =  3\n"
     ]
    }
   ],
   "source": [
    "# 2008132_Anthonio Akbar_Pendidikan-Ilmu-Komputer_5A\n",
    "# Metode Newton Raphson\n",
    "\n",
    "x0 = 4.5\n",
    "f  = lambda x: (x**2) - (2*x) - 8   # Lambda x berfungsi untuk menggantikan x dalam fungsi f dengan nilai lain, (Contohnya seperti: f(3), berarti (3**2) - (2*3) - 8)\n",
    "df = lambda x: (2*x) - 2\n",
    "\n",
    "for i in range (1,100) :    # Iterasi akan mengulang sebanyak 100 kali terhitung sejak 1\n",
    "    print('   |Iterasi Ke-%i|'%i)   # Perintah untuk print iterasi ke berapa\n",
    "    print('x0     = %.3f'%x0)       # Print x0\n",
    "    x1 = round( (x0-(f(x0)/df(x0))) , 3 )   # Menghitung x1 dengan langsung pembulatan 3 angka di belakang koma (fungsi round)\n",
    "    print('x1     = %.3f'%x1)       # Print x1\n",
    "    print('f(x0)  = %.3f'%f(x0))    # Print f(x0), x yang ada di fungsi f diganti dengan x0 (fungsi lambda)\n",
    "    print('df(x0) = %.3f'%df(x0))   # Print df(x0), x yang ada di fungsi df diganti dengan x0 (fungsi lambda)\n",
    "    print('|(x1-x0)/x1| = ',round(abs((x1-x0)/x1), 3))  # Print |[x1-x0]/x1| dengan langsung pembulatan dan mutlak (round = pembulatan, abs = mutlak)\n",
    "    print('-'*21)   # Print - sebanyak 21 kali\n",
    "    if f(x0) == 0:  # Jika nilai f(x0) nya sudah 0, maka iterasi dihentikan\n",
    "        break\n",
    "    else :          # Jika nilai f(x0) nya belum 0, maka x0 nya diganti dengan x1, dan iterasi masih berlanjut karena tidak 'break'\n",
    "        x0 = x1\n",
    "\n",
    "print('Total iterasi = ',i)"
   ]
  }
 ],
 "metadata": {
  "kernelspec": {
   "display_name": "Python 3",
   "language": "python",
   "name": "python3"
  },
  "language_info": {
   "codemirror_mode": {
    "name": "ipython",
    "version": 3
   },
   "file_extension": ".py",
   "mimetype": "text/x-python",
   "name": "python",
   "nbconvert_exporter": "python",
   "pygments_lexer": "ipython3",
   "version": "3.10.6"
  },
  "orig_nbformat": 4,
  "vscode": {
   "interpreter": {
    "hash": "4f190df881598ed4ce8c6ef3b9f429d6d516c545021c1bbb0898dd91eb974145"
   }
  }
 },
 "nbformat": 4,
 "nbformat_minor": 2
}
