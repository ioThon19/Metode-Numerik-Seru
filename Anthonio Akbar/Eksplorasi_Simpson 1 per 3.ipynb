{
 "cells": [
  {
   "cell_type": "code",
   "execution_count": 1,
   "metadata": {},
   "outputs": [
    {
     "name": "stdout",
     "output_type": "stream",
     "text": [
      "Nilai integral : 1.827847\n"
     ]
    }
   ],
   "source": [
    "import math\n",
    "\n",
    "# Mendefinisikan fungsi\n",
    "def func( x ):\n",
    "\treturn math.log(x)\n",
    "\n",
    "# Fungsi Simpson 1/3\n",
    "def simpsons_( ll, ul, n ):\n",
    "\th = ( ul - ll )/n\n",
    "\tx = list()\n",
    "\tfx = list()\n",
    "\ti = 0\n",
    "\twhile i<= n:\n",
    "\t\tx.append(ll + i * h)\n",
    "\t\tfx.append(func(x[i]))\n",
    "\t\ti += 1\n",
    "\tres = 0\n",
    "\ti = 0\n",
    "\twhile i<= n:\n",
    "\t\tif i == 0 or i == n:\n",
    "\t\t\tres+= fx[i]\n",
    "\t\telif i % 2 != 0:\n",
    "\t\t\tres+= 4 * fx[i]\n",
    "\t\telse:\n",
    "\t\t\tres+= 2 * fx[i]\n",
    "\t\ti+= 1\n",
    "\tres = res * (h / 3)\n",
    "\treturn res\n",
    "\t\n",
    "# Menjalankan fungsi\n",
    "lower_limit = 4 \n",
    "upper_limit = 5.2 \n",
    "n = 6 \n",
    "print(\"Nilai integral : %.6f\"% simpsons_(lower_limit, upper_limit, n))\n"
   ]
  }
 ],
 "metadata": {
  "kernelspec": {
   "display_name": "Python 3",
   "language": "python",
   "name": "python3"
  },
  "language_info": {
   "codemirror_mode": {
    "name": "ipython",
    "version": 3
   },
   "file_extension": ".py",
   "mimetype": "text/x-python",
   "name": "python",
   "nbconvert_exporter": "python",
   "pygments_lexer": "ipython3",
   "version": "3.10.6 (tags/v3.10.6:9c7b4bd, Aug  1 2022, 21:53:49) [MSC v.1932 64 bit (AMD64)]"
  },
  "orig_nbformat": 4,
  "vscode": {
   "interpreter": {
    "hash": "4f190df881598ed4ce8c6ef3b9f429d6d516c545021c1bbb0898dd91eb974145"
   }
  }
 },
 "nbformat": 4,
 "nbformat_minor": 2
}
