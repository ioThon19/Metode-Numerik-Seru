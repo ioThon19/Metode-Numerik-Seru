{
 "cells": [
  {
   "cell_type": "code",
   "execution_count": 3,
   "metadata": {},
   "outputs": [
    {
     "name": "stdout",
     "output_type": "stream",
     "text": [
      "Integration result by Trapezoidal method is: 0.784241\n"
     ]
    }
   ],
   "source": [
    "# Mendefinisikan fungsi f(x)\n",
    "def f(x):\n",
    "    return 1/(1 + x**2)\n",
    "\n",
    "# Implementasi metode trapezoidal\n",
    "def trapezoidal(x0,xn,n):\n",
    "    h = (xn - x0) / n\n",
    "    integration = f(x0) + f(xn)\n",
    "    for i in range(1,n):\n",
    "        k = x0 + i*h\n",
    "        integration = integration + 2 * f(k)\n",
    "    integration = integration * h/2\n",
    "    \n",
    "    return integration\n",
    "    \n",
    "# Input interval\n",
    "lower_limit = float(input(\"Masukan limit bawah: \"))\n",
    "upper_limit = float(input(\"Masukan limit atas: \"))\n",
    "sub_interval = int(input(\"Masukan angka dari sub interval: \"))\n",
    "\n",
    "# Menampilkan hasil\n",
    "result = trapezoidal(lower_limit, upper_limit, sub_interval)\n",
    "print(\"Nilai integral: %0.6f\" % (result) )"
   ]
  }
 ],
 "metadata": {
  "kernelspec": {
   "display_name": "Python 3",
   "language": "python",
   "name": "python3"
  },
  "language_info": {
   "codemirror_mode": {
    "name": "ipython",
    "version": 3
   },
   "file_extension": ".py",
   "mimetype": "text/x-python",
   "name": "python",
   "nbconvert_exporter": "python",
   "pygments_lexer": "ipython3",
   "version": "3.10.4 (tags/v3.10.4:9d38120, Mar 23 2022, 23:13:41) [MSC v.1929 64 bit (AMD64)]"
  },
  "orig_nbformat": 4,
  "vscode": {
   "interpreter": {
    "hash": "25d55898efc93ddab13c6ef669342cf4b20d71dee37db728c7ac40afe433fc25"
   }
  }
 },
 "nbformat": 4,
 "nbformat_minor": 2
}
