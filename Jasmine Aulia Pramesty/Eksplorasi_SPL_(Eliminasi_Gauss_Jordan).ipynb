{
  "nbformat": 4,
  "nbformat_minor": 0,
  "metadata": {
    "colab": {
      "provenance": []
    },
    "kernelspec": {
      "name": "python3",
      "display_name": "Python 3"
    },
    "language_info": {
      "name": "python"
    }
  },
  "cells": [
    {
      "cell_type": "code",
      "execution_count": null,
      "metadata": {
        "id": "XiY3E5HwSX4l"
      },
      "outputs": [],
      "source": [
        "import numpy as np\n",
        "\n",
        "n = int(input('Input jumlah variabel: '))\n",
        "a = np.zeros((n,n+1))\n",
        "x = np.zeros(n)\n",
        "\n",
        "print('Input matriks: ')\n",
        "for i in range(n):\n",
        "    for j in range(n+1):\n",
        "        a[i][j] = float(input( 'a['+str(i)+']['+ str(j)+'] = '))\n",
        "        \n",
        "for i in range(n):\n",
        "    # Penukar baris jika bilangan di salah satu diagonalnya = 0\n",
        "    if i != n:\n",
        "        if a[i][i] == 0.0:\n",
        "            search = i\n",
        "            while a[i][i] == 0.0:\n",
        "                for j in range(n+1):\n",
        "                    temp1 = a[i][j]\n",
        "                    temp2 = a[search+1][j]\n",
        "                    a[i][j] = temp2\n",
        "                    a[search+1][j] = temp1\n",
        "                search = search + 1\n",
        "    \n",
        "    # Proses Eliminasi GaussJordan        \n",
        "    for j in range(n):\n",
        "        if i != j:\n",
        "            ratio = a[j][i]/a[i][i]\n",
        "\n",
        "            for k in range(n+1):\n",
        "                a[j][k] = a[j][k] - ratio * a[i][k]\n",
        "\n",
        "# Menghitung Solusi\n",
        "for i in range(n):\n",
        "    x[i] = a[i][n]/a[i][i]\n",
        "\n",
        "# Menampilkan Solusi\n",
        "print('\\nSolusinya adalah : ')\n",
        "for i in range(n):\n",
        "    print('X%d = %0.2f' %(i+1,x[i]), end = '\\t')"
      ]
    }
  ]
}