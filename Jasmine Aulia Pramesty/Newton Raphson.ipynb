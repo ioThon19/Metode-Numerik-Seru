{
 "cells": [
  {
   "cell_type": "code",
   "execution_count": 39,
   "metadata": {},
   "outputs": [
    {
     "name": "stdout",
     "output_type": "stream",
     "text": [
      "   |Iterasi Ke-1|\n",
      "x0     = 4.500\n",
      "x1     = 4.036\n",
      "f(x0)  = 3.250\n",
      "df(x0) = 7.000\n",
      "|(x1-x0)/x1| =  0.115\n",
      "---------------------\n",
      "   |Iterasi Ke-2|\n",
      "x0     = 4.036\n",
      "x1     = 4.000\n",
      "f(x0)  = 0.217\n",
      "df(x0) = 6.072\n",
      "|(x1-x0)/x1| =  0.009\n",
      "---------------------\n",
      "   |Iterasi Ke-3|\n",
      "x0     = 4.000\n",
      "x1     = 4.000\n",
      "f(x0)  = 0.000\n",
      "df(x0) = 6.000\n",
      "|(x1-x0)/x1| =  0.0\n",
      "---------------------\n",
      "Total iterasi =  3\n"
     ]
    }
   ],
   "source": [
    "#metode newton raphson\n",
    "x0 = 4.5 #nilai awal\n",
    "f  = lambda x: (x**2) - (2*x) - 8 #fungsi yang akan dicari akarnya\n",
    "df = lambda x: (2*x) - 2 #turunan fungsi\n",
    "\n",
    "for i in range (1,100) : #iterasi maksimal 100 kali   \n",
    "    print('   |Iterasi Ke-%i|'%i) #menampilkan iterasi ke-  \n",
    "    print('x0     = %.3f'%x0) #menampilkan nilai x0      \n",
    "    x1 = round( (x0-(f(x0)/df(x0))) , 3 ) #rumus newton raphson \n",
    "    print('x1     = %.3f'%x1) #menampilkan nilai x1   \n",
    "    print('f(x0)  = %.3f'%f(x0)) #menampilkan nilai f(x0)  \n",
    "    print('df(x0) = %.3f'%df(x0)) #menampilkan nilai df(x0)\n",
    "    print('|(x1-x0)/x1| = ',round(abs((x1-x0)/x1), 3)) #menampilkan nilai |(x1-x0)/x1|\n",
    "    print('-'*21) #garis pembatas iterasi   \n",
    "    if f(x0) == 0: #jika f(x0) = 0 maka akar ditemukan  \n",
    "        break\n",
    "    else :          \n",
    "        x0 = x1 #nilai x0 diganti dengan nilai x1\n",
    "\n",
    "print('Total iterasi = ',i) #menampilkan total iterasi"
   ]
  }
 ],
 "metadata": {
  "kernelspec": {
   "display_name": "Python 3.8.5 32-bit",
   "language": "python",
   "name": "python3"
  },
  "language_info": {
   "codemirror_mode": {
    "name": "ipython",
    "version": 3
   },
   "file_extension": ".py",
   "mimetype": "text/x-python",
   "name": "python",
   "nbconvert_exporter": "python",
   "pygments_lexer": "ipython3",
   "version": "3.8.5"
  },
  "orig_nbformat": 4,
  "vscode": {
   "interpreter": {
    "hash": "96cbb5eb2dbe02fece29bc4df9ff6910cf280db9f59bff3c2587f2eed7ddc979"
   }
  }
 },
 "nbformat": 4,
 "nbformat_minor": 2
}
