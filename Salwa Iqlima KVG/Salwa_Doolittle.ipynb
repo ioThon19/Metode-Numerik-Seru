{
 "cells": [
  {
   "cell_type": "code",
   "execution_count": null,
   "metadata": {},
   "outputs": [
    {
     "name": "stdout",
     "output_type": "stream",
     "text": [
      "Segitiga bawah\t\tSegitiga atas\n",
      "1\t0\t0\t\t2\t-1\t-2\t\n",
      "-2\t1\t0\t\t0\t4\t-1\t\n",
      "-2\t-1\t1\t\t0\t0\t3\t\n"
     ]
    }
   ],
   "source": [
    "#Salwa Iqlima KVG\n",
    "#NIM 2000680\n",
    "\n",
    "MAX = 100\n",
    "\n",
    "def luDecomposition(mat, n):\n",
    "\n",
    "\tlower = [[0 for x in range(n)]\n",
    "\t\t\tfor y in range(n)]\n",
    "\tupper = [[0 for x in range(n)]\n",
    "\t\t\tfor y in range(n)]\n",
    "\n",
    "\t#Dekomposisi matriks menjadi matrix segitiga bawah dan segitiga atas\n",
    "\tfor i in range(n):\n",
    "\n",
    "\t\t#Segitiga Atas\n",
    "\t\tfor k in range(i, n):\n",
    "\t\t\tsum = 0\n",
    "\t\t\tfor j in range(i):\n",
    "\t\t\t\tsum += (lower[i][j] * upper[j][k])\n",
    "\t\t\tupper[i][k] = mat[i][k] - sum\n",
    "\n",
    "\t\t#Segitiga Bawah\n",
    "\t\tfor k in range(i, n):\n",
    "\t\t\tif (i == k):\n",
    "\t\t\t\tlower[i][i] = 1 \n",
    "\t\t\telse:\n",
    "\t\t\t\tsum = 0\n",
    "\t\t\t\tfor j in range(i):\n",
    "\t\t\t\t\tsum += (lower[k][j] * upper[j][i])\n",
    "\t\t\t\tlower[k][i] = int((mat[k][i] - sum) /\n",
    "\t\t\t\t\t\t\t\tupper[i][i])\n",
    "\n",
    "\t#Menampilkan Hasil\n",
    "\tprint(\"Segitiga Bawah\\t\\t\\tSegitiga Atas\")\n",
    "\tfor i in range(n):\n",
    "\n",
    "\t\t#Bawah\n",
    "\t\tfor j in range(n):\n",
    "\t\t\tprint(lower[i][j], end=\"\\t\")\n",
    "\t\tprint(\"\", end=\"\\t\")\n",
    "\n",
    "\t\t#Atas\n",
    "\t\tfor j in range(n):\n",
    "\t\t\tprint(upper[i][j], end=\"\\t\")\n",
    "\t\tprint(\"\")\n",
    "\n",
    "\n",
    "# Matriks yang akan di dekomposisi\n",
    "mat = [[2, -1, -2],\n",
    "\t[-4, 6, 3],\n",
    "\t[-4, -2, 8]]\n",
    "\n",
    "luDecomposition(mat, 3)\n"
   ]
  }
 ],
 "metadata": {
  "kernelspec": {
   "display_name": "Python 3",
   "language": "python",
   "name": "python3"
  },
  "language_info": {
   "codemirror_mode": {
    "name": "ipython",
    "version": 3
   },
   "file_extension": ".py",
   "mimetype": "text/x-python",
   "name": "python",
   "nbconvert_exporter": "python",
   "pygments_lexer": "ipython3",
   "version": "3.10.7 (tags/v3.10.7:6cc6b13, Sep  5 2022, 14:08:36) [MSC v.1933 64 bit (AMD64)]"
  },
  "orig_nbformat": 4,
  "vscode": {
   "interpreter": {
    "hash": "9fbd1aed3145fa4e663c070efbd92cd26b88ae0382dad72b05516d66cddbe808"
   }
  }
 },
 "nbformat": 4,
 "nbformat_minor": 2
}
