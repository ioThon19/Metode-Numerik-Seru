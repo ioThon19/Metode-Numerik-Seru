{
 "cells": [
  {
   "cell_type": "code",
   "execution_count": 7,
   "metadata": {},
   "outputs": [
    {
     "name": "stdout",
     "output_type": "stream",
     "text": [
      "12 \t 1.0 \t -0.1667 \t 0.05 \t \n",
      "13 \t 0.3333 \t 0.1333 \t \n",
      "14 \t 1.0 \t \n",
      "16 \t \n",
      "\n",
      "Nilai dari 7 adalah 13.47\n"
     ]
    }
   ],
   "source": [
    "#Salwa Iqlima KVG\n",
    "#NIM 2000680\n",
    "\n",
    "#Fungsi yang digunakan untuk menghitung perbedaan terbagi tabel\n",
    "def proterm(i, value, x):\n",
    "\tpro = 1\n",
    "\tfor j in range(i):\n",
    "\t\tpro = pro * (value - x[j])\n",
    "\treturn pro\n",
    "\n",
    "#Fungsi yang digunakan untuk membuat tabel perbedaan terbagi\n",
    "def dividedDiffTable(x, y, n):\n",
    "\tfor i in range(1, n):\n",
    "\t\tfor j in range(n - i):\n",
    "\t\t\ty[j][i] = ((y[j][i - 1] - y[j + 1][i - 1]) / (x[j] - x[i + j]))\n",
    "\treturn y\n",
    "\n",
    "#Fungsi polinom Newton\n",
    "def applyFormula(value, x, y, n):\n",
    "\tsum = y[0][0]\n",
    "\tfor i in range(1, n):\n",
    "\t\tsum = sum + (proterm(i, value, x) * y[0][i])\n",
    "\treturn sum\n",
    "\n",
    "#Fungsi yang digunakan untuk menampilkan tabel perbedaan terbagi\n",
    "def printDiffTable(y, n):\n",
    "\tfor i in range(n):\n",
    "\t\tfor j in range(n - i):\n",
    "\t\t\tprint(round(y[i][j], 4), \"\\t\",\n",
    "\t\t\t\t\t\t\tend = \" \")\n",
    "\t\tprint(\"\")\n",
    "\n",
    "n = 4\n",
    "y = [[0 for i in range(10)]\n",
    "\t\tfor j in range(10)]\n",
    "x = [ 5, 6, 9, 11 ]\n",
    "\n",
    "#Tabel y[][] dibuat untuk memuat perbedaan terbagi\n",
    "y[0][0] = 12\n",
    "y[1][0] = 13\n",
    "y[2][0] = 14\n",
    "y[3][0] = 16\n",
    "\n",
    "#Membuat tabel perbedaan terbagi\n",
    "y=dividedDiffTable(x, y, n)\n",
    "\n",
    "#Menampilkan tabel perbedaan terbagi\n",
    "printDiffTable(y, n)\n",
    "\n",
    "#Nilai yang dicari\n",
    "value = 7\n",
    "\n",
    "#Menampilkan nilai yang dicari\n",
    "print(\"\\nNilai dari\", value, \"adalah\",\n",
    "\t\tround(applyFormula(value, x, y, n), 2))\n"
   ]
  }
 ],
 "metadata": {
  "kernelspec": {
   "display_name": "Python 3",
   "language": "python",
   "name": "python3"
  },
  "language_info": {
   "codemirror_mode": {
    "name": "ipython",
    "version": 3
   },
   "file_extension": ".py",
   "mimetype": "text/x-python",
   "name": "python",
   "nbconvert_exporter": "python",
   "pygments_lexer": "ipython3",
   "version": "3.10.7 (tags/v3.10.7:6cc6b13, Sep  5 2022, 14:08:36) [MSC v.1933 64 bit (AMD64)]"
  },
  "orig_nbformat": 4,
  "vscode": {
   "interpreter": {
    "hash": "9fbd1aed3145fa4e663c070efbd92cd26b88ae0382dad72b05516d66cddbe808"
   }
  }
 },
 "nbformat": 4,
 "nbformat_minor": 2
}
