{
 "cells": [
  {
   "cell_type": "code",
   "execution_count": null,
   "metadata": {},
   "outputs": [
    {
     "name": "stdout",
     "output_type": "stream",
     "text": [
      "Nilai integral : 1.827847\n"
     ]
    }
   ],
   "source": [
    "#Salwa Iqlima KVG\n",
    "#NIM 2000680\n",
    "\n",
    "import math\n",
    "\n",
    "#Tahap mendefinisikan fungsi\n",
    "def func( x ):\n",
    "\treturn math.log(x)\n",
    "\n",
    "#Fungsi Simpson 1/3\n",
    "def simpsons_( ll, ul, n ):\n",
    "\th = ( ul - ll )/n\n",
    "\tx = list()\n",
    "\tfx = list()\n",
    "\ti = 0\n",
    "\twhile i<= n:\n",
    "\t\tx.append(ll + i * h)\n",
    "\t\tfx.append(func(x[i]))\n",
    "\t\ti += 1\n",
    "\tres = 0\n",
    "\ti = 0\n",
    "\twhile i<= n:\n",
    "\t\tif i == 0 or i == n:\n",
    "\t\t\tres+= fx[i]\n",
    "\t\telif i % 2 != 0:\n",
    "\t\t\tres+= 4 * fx[i]\n",
    "\t\telse:\n",
    "\t\t\tres+= 2 * fx[i]\n",
    "\t\ti+= 1\n",
    "\tres = res * (h / 3)\n",
    "\treturn res\n",
    "\t\n",
    "#Tahap menjalankan fungsi\n",
    "lower_limit = 4 \n",
    "upper_limit = 5.2 \n",
    "n = 6\n",
    "\n",
    "#Menampilkan Output / Hasil \n",
    "print(\"Nilai integral : %.6f\"% simpsons_(lower_limit, upper_limit, n))\n"
   ]
  }
 ],
 "metadata": {
  "kernelspec": {
   "display_name": "Python 3",
   "language": "python",
   "name": "python3"
  },
  "language_info": {
   "codemirror_mode": {
    "name": "ipython",
    "version": 3
   },
   "file_extension": ".py",
   "mimetype": "text/x-python",
   "name": "python",
   "nbconvert_exporter": "python",
   "pygments_lexer": "ipython3",
   "version": "3.10.7 (tags/v3.10.7:6cc6b13, Sep  5 2022, 14:08:36) [MSC v.1933 64 bit (AMD64)]"
  },
  "orig_nbformat": 4,
  "vscode": {
   "interpreter": {
    "hash": "9fbd1aed3145fa4e663c070efbd92cd26b88ae0382dad72b05516d66cddbe808"
   }
  }
 },
 "nbformat": 4,
 "nbformat_minor": 2
}
