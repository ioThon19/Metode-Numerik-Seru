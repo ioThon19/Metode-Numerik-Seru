{
 "cells": [
  {
   "cell_type": "code",
   "execution_count": 3,
   "metadata": {},
   "outputs": [
    {
     "name": "stdout",
     "output_type": "stream",
     "text": [
      "Integration result by Trapezoidal method is: 0.784241\n"
     ]
    }
   ],
   "source": [
    "#Salwa Iqlima KVG\n",
    "#NIM 2000680\n",
    "\n",
    "#Tahap mendefinisikan sebuah fungsi f(x)\n",
    "def f(x):\n",
    "    return 1/(1 + x**2)\n",
    "\n",
    "#Tahap implementasi sebuah metode Trapezoidal\n",
    "def trapezoidal(x0,xn,n):\n",
    "    h = (xn - x0) / n\n",
    "    integration = f(x0) + f(xn)\n",
    "    for i in range(1,n):\n",
    "        k = x0 + i*h\n",
    "        integration = integration + 2 * f(k)\n",
    "    integration = integration * h/2\n",
    "    \n",
    "    return integration\n",
    "    \n",
    "#Input interval\n",
    "lower_limit = float(input(\"Input limit bawah: \"))\n",
    "upper_limit = float(input(\"Input limit atas: \"))\n",
    "sub_interval = int(input(\"Input angka dari sub interval: \"))\n",
    "\n",
    "#Menampilkan Output / Hasil\n",
    "result = trapezoidal(lower_limit, upper_limit, sub_interval)\n",
    "print(\"Nilai integral: %0.6f\" % (result) )"
   ]
  }
 ],
 "metadata": {
  "kernelspec": {
   "display_name": "Python 3",
   "language": "python",
   "name": "python3"
  },
  "language_info": {
   "codemirror_mode": {
    "name": "ipython",
    "version": 3
   },
   "file_extension": ".py",
   "mimetype": "text/x-python",
   "name": "python",
   "nbconvert_exporter": "python",
   "pygments_lexer": "ipython3",
   "version": "3.10.7 (tags/v3.10.7:6cc6b13, Sep  5 2022, 14:08:36) [MSC v.1933 64 bit (AMD64)]"
  },
  "orig_nbformat": 4,
  "vscode": {
   "interpreter": {
    "hash": "9fbd1aed3145fa4e663c070efbd92cd26b88ae0382dad72b05516d66cddbe808"
   }
  }
 },
 "nbformat": 4,
 "nbformat_minor": 2
}
