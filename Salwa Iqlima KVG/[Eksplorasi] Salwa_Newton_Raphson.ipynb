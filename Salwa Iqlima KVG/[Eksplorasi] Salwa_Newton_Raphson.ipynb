{
 "cells": [
  {
   "cell_type": "code",
   "execution_count": 1,
   "metadata": {},
   "outputs": [
    {
     "name": "stdout",
     "output_type": "stream",
     "text": [
      "|Iterasi Ke-1|\n",
      "x0     = 4.500\n",
      "x1     = 4.036\n",
      "f(x0)  = 3.250\n",
      "df(x0) = 7.000\n",
      "|(x1-x0)/x1| =  0.115\n",
      "\n",
      "\n",
      "|Iterasi Ke-2|\n",
      "x0     = 4.036\n",
      "x1     = 4.000\n",
      "f(x0)  = 0.217\n",
      "df(x0) = 6.072\n",
      "|(x1-x0)/x1| =  0.009\n",
      "\n",
      "\n",
      "|Iterasi Ke-3|\n",
      "x0     = 4.000\n",
      "x1     = 4.000\n",
      "f(x0)  = 0.000\n",
      "df(x0) = 6.000\n",
      "|(x1-x0)/x1| =  0.0\n",
      "\n",
      "\n",
      "Banyak iterasi yang didapatkan adalah  3\n"
     ]
    }
   ],
   "source": [
    "#Salwa Iqlima KVG (2000680)\n",
    "#Metode newton-raphson\n",
    "\n",
    "f  = lambda x: x**2-2*x-8 #f(x)\n",
    "df = lambda x: 2*x-2 #f'(x)\n",
    "x0 = 4.5 #Nilai awal\n",
    "\n",
    "for i in range (1,100) :    # Mengulang sebanyak 100 kali terhitung sejak 1\n",
    "    print('|Iterasi Ke-%i|'%i)   # Mencetak Iterasi ke berapa\n",
    "    print('x0     = %.3f'%x0)       # Print x0\n",
    "    x1 = round( (x0-(f(x0)/df(x0))) , 3 )   # Menghitung x1, langsung pembulatan 3 angka di belakang koma (fungsi round)\n",
    "    print('x1     = %.3f'%x1)       # Print x1\n",
    "    print('f(x0)  = %.3f'%f(x0))    # Print f(x0), x yang ada di fungsi f diganti dengan x0 (fungsi lambda)\n",
    "    print('df(x0) = %.3f'%df(x0))   # Print df(x0), x yang ada di fungsi df diganti dengan x0 (fungsi lambda)\n",
    "    print('|(x1-x0)/x1| = ',round(abs((x1-x0)/x1), 3))  # Print |[x1-x0]/x1|, langsung pembulatan dan mutlak (round = pembulatan, abs = mutlak)\n",
    "    print ('\\n') #Membuat garis baru (enter)\n",
    "    if f(x0) == 0:  # Jika nilai f(x0) = 0, maka iterasi dihentikan\n",
    "        break\n",
    "    else :          # Jika nilai f(x0) nya belum 0, maka x0 nya diganti dengan x1, dan iterasi masih berlanjut karena tidak 'break'\n",
    "        x0 = x1\n",
    "\n",
    "print('Banyak iterasi yang didapatkan adalah ',i)"
   ]
  }
 ],
 "metadata": {
  "kernelspec": {
   "display_name": "Python 3.10.7 64-bit",
   "language": "python",
   "name": "python3"
  },
  "language_info": {
   "codemirror_mode": {
    "name": "ipython",
    "version": 3
   },
   "file_extension": ".py",
   "mimetype": "text/x-python",
   "name": "python",
   "nbconvert_exporter": "python",
   "pygments_lexer": "ipython3",
   "version": "3.10.7 (tags/v3.10.7:6cc6b13, Sep  5 2022, 14:08:36) [MSC v.1933 64 bit (AMD64)]"
  },
  "orig_nbformat": 4,
  "vscode": {
   "interpreter": {
    "hash": "9fbd1aed3145fa4e663c070efbd92cd26b88ae0382dad72b05516d66cddbe808"
   }
  }
 },
 "nbformat": 4,
 "nbformat_minor": 2
}
