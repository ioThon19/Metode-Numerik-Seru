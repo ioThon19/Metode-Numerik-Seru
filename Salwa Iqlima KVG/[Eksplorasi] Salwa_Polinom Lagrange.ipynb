{
 "cells": [
  {
   "cell_type": "code",
   "execution_count": 1,
   "metadata": {},
   "outputs": [
    {
     "name": "stdout",
     "output_type": "stream",
     "text": [
      "Masukan nilai x dan y: \n",
      "Interpolated value at 9.000 is 810.000.\n"
     ]
    }
   ],
   "source": [
    "#Salwa Iqlima KVG\n",
    "#NIM 2000680\n",
    "\n",
    "import numpy as np\n",
    "\n",
    "#Input jumlah data\n",
    "n = int(input('Masukan jumlah data: '))\n",
    "\n",
    "x = np.zeros((n))\n",
    "y = np.zeros((n))\n",
    "\n",
    "\n",
    "#Input nilai data x dan y\n",
    "print('Masukan nilai x dan y: ')\n",
    "for i in range(n):\n",
    "    x[i] = float(input( 'x['+str(i)+']='))\n",
    "    y[i] = float(input( 'y['+str(i)+']='))\n",
    "\n",
    "\n",
    "#Input titik interpolasi\n",
    "xp = float(input('Masukan titik interpolasi: '))\n",
    "\n",
    "yp = 0\n",
    "\n",
    "#Implementasi polinom Lagrange\n",
    "for i in range(n):\n",
    "    p = 1\n",
    "    for j in range(n):\n",
    "        if i != j:\n",
    "            p = p * (xp - x[j])/(x[i] - x[j])\n",
    "    yp = yp + p * y[i]    \n",
    "\n",
    "#Menampilkan Output / hasil :\n",
    "print('Nilai interpolasi di titik %.3f adalah %.3f.' % (xp, yp))"
   ]
  }
 ],
 "metadata": {
  "kernelspec": {
   "display_name": "Python 3",
   "language": "python",
   "name": "python3"
  },
  "language_info": {
   "codemirror_mode": {
    "name": "ipython",
    "version": 3
   },
   "file_extension": ".py",
   "mimetype": "text/x-python",
   "name": "python",
   "nbconvert_exporter": "python",
   "pygments_lexer": "ipython3",
   "version": "3.10.7 (tags/v3.10.7:6cc6b13, Sep  5 2022, 14:08:36) [MSC v.1933 64 bit (AMD64)]"
  },
  "orig_nbformat": 4,
  "vscode": {
   "interpreter": {
    "hash": "9fbd1aed3145fa4e663c070efbd92cd26b88ae0382dad72b05516d66cddbe808"
   }
  }
 },
 "nbformat": 4,
 "nbformat_minor": 2
}
